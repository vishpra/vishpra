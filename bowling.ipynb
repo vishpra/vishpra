{
 "cells": [
  {
   "cell_type": "code",
   "execution_count": 1,
   "id": "bfcf8c80",
   "metadata": {},
   "outputs": [],
   "source": [
    "import pandas as pd\n",
    "import numpy as np\n",
    "import matplotlib.pyplot as plt\n",
    "import seaborn as sns\n",
    "%matplotlib inline\n",
    "from joblib import dump\n",
    "import warnings\n",
    "warnings.filterwarnings('ignore')"
   ]
  },
  {
   "cell_type": "code",
   "execution_count": 2,
   "id": "1f29d735",
   "metadata": {},
   "outputs": [],
   "source": [
    "bowler_df = pd.read_csv(\"bowler.csv\" ,encoding = \"ISO-8859-1\")"
   ]
  },
  {
   "cell_type": "code",
   "execution_count": 3,
   "id": "bd4ba6ab",
   "metadata": {},
   "outputs": [],
   "source": [
    "bowler_df=bowler_df.dropna()"
   ]
  },
  {
   "cell_type": "code",
   "execution_count": 4,
   "id": "2f1862ac",
   "metadata": {},
   "outputs": [
    {
     "data": {
      "text/html": [
       "<div>\n",
       "<style scoped>\n",
       "    .dataframe tbody tr th:only-of-type {\n",
       "        vertical-align: middle;\n",
       "    }\n",
       "\n",
       "    .dataframe tbody tr th {\n",
       "        vertical-align: top;\n",
       "    }\n",
       "\n",
       "    .dataframe thead th {\n",
       "        text-align: right;\n",
       "    }\n",
       "</style>\n",
       "<table border=\"1\" class=\"dataframe\">\n",
       "  <thead>\n",
       "    <tr style=\"text-align: right;\">\n",
       "      <th></th>\n",
       "      <th>Name</th>\n",
       "      <th>Balls</th>\n",
       "      <th>Runs</th>\n",
       "      <th>Wkts</th>\n",
       "      <th>Ave</th>\n",
       "      <th>Econ</th>\n",
       "    </tr>\n",
       "  </thead>\n",
       "  <tbody>\n",
       "    <tr>\n",
       "      <th>0</th>\n",
       "      <td>Arshdeep Singh</td>\n",
       "      <td>79</td>\n",
       "      <td>89</td>\n",
       "      <td>0</td>\n",
       "      <td>0.00</td>\n",
       "      <td>6.75</td>\n",
       "    </tr>\n",
       "    <tr>\n",
       "      <th>1</th>\n",
       "      <td>Ravichandran Ashwin</td>\n",
       "      <td>6303</td>\n",
       "      <td>5180</td>\n",
       "      <td>156</td>\n",
       "      <td>33.20</td>\n",
       "      <td>4.93</td>\n",
       "    </tr>\n",
       "    <tr>\n",
       "      <th>2</th>\n",
       "      <td>Jasprit Bumrah</td>\n",
       "      <td>4311</td>\n",
       "      <td>3315</td>\n",
       "      <td>140</td>\n",
       "      <td>23.67</td>\n",
       "      <td>4.61</td>\n",
       "    </tr>\n",
       "    <tr>\n",
       "      <th>3</th>\n",
       "      <td>Yuzvendra Chahal</td>\n",
       "      <td>3739</td>\n",
       "      <td>3283</td>\n",
       "      <td>121</td>\n",
       "      <td>27.13</td>\n",
       "      <td>5.26</td>\n",
       "    </tr>\n",
       "    <tr>\n",
       "      <th>4</th>\n",
       "      <td>Kuldeep Yadav</td>\n",
       "      <td>4855</td>\n",
       "      <td>4132</td>\n",
       "      <td>160</td>\n",
       "      <td>25.82</td>\n",
       "      <td>5.10</td>\n",
       "    </tr>\n",
       "    <tr>\n",
       "      <th>...</th>\n",
       "      <td>...</td>\n",
       "      <td>...</td>\n",
       "      <td>...</td>\n",
       "      <td>...</td>\n",
       "      <td>...</td>\n",
       "      <td>...</td>\n",
       "    </tr>\n",
       "    <tr>\n",
       "      <th>605</th>\n",
       "      <td>RT Lyons (SCOT)</td>\n",
       "      <td>1093</td>\n",
       "      <td>901</td>\n",
       "      <td>20</td>\n",
       "      <td>45.05</td>\n",
       "      <td>4.94</td>\n",
       "    </tr>\n",
       "    <tr>\n",
       "      <th>606</th>\n",
       "      <td>N Madziva (ZIM)</td>\n",
       "      <td>520</td>\n",
       "      <td>519</td>\n",
       "      <td>20</td>\n",
       "      <td>25.95</td>\n",
       "      <td>5.98</td>\n",
       "    </tr>\n",
       "    <tr>\n",
       "      <th>607</th>\n",
       "      <td>JO Ngoche (KENYA)</td>\n",
       "      <td>878</td>\n",
       "      <td>569</td>\n",
       "      <td>20</td>\n",
       "      <td>28.45</td>\n",
       "      <td>3.88</td>\n",
       "    </tr>\n",
       "    <tr>\n",
       "      <th>608</th>\n",
       "      <td>KMA Paul (WI)</td>\n",
       "      <td>740</td>\n",
       "      <td>737</td>\n",
       "      <td>20</td>\n",
       "      <td>36.85</td>\n",
       "      <td>5.97</td>\n",
       "    </tr>\n",
       "    <tr>\n",
       "      <th>609</th>\n",
       "      <td>NO Perry (WI)</td>\n",
       "      <td>946</td>\n",
       "      <td>783</td>\n",
       "      <td>20</td>\n",
       "      <td>39.15</td>\n",
       "      <td>4.96</td>\n",
       "    </tr>\n",
       "  </tbody>\n",
       "</table>\n",
       "<p>610 rows × 6 columns</p>\n",
       "</div>"
      ],
      "text/plain": [
       "                     Name  Balls  Runs  Wkts    Ave  Econ\n",
       "0          Arshdeep Singh     79    89     0   0.00  6.75\n",
       "1    Ravichandran Ashwin    6303  5180   156  33.20  4.93\n",
       "2          Jasprit Bumrah   4311  3315   140  23.67  4.61\n",
       "3        Yuzvendra Chahal   3739  3283   121  27.13  5.26\n",
       "4           Kuldeep Yadav   4855  4132   160  25.82  5.10\n",
       "..                    ...    ...   ...   ...    ...   ...\n",
       "605       RT Lyons (SCOT)   1093   901    20  45.05  4.94\n",
       "606       N Madziva (ZIM)    520   519    20  25.95  5.98\n",
       "607     JO Ngoche (KENYA)    878   569    20  28.45  3.88\n",
       "608         KMA Paul (WI)    740   737    20  36.85  5.97\n",
       "609         NO Perry (WI)    946   783    20  39.15  4.96\n",
       "\n",
       "[610 rows x 6 columns]"
      ]
     },
     "execution_count": 4,
     "metadata": {},
     "output_type": "execute_result"
    }
   ],
   "source": [
    "bowler_df"
   ]
  },
  {
   "cell_type": "code",
   "execution_count": 5,
   "id": "653f6591",
   "metadata": {},
   "outputs": [
    {
     "data": {
      "text/plain": [
       "Name     Ravichandran Ashwin \n",
       "Balls                    6303\n",
       "Runs                     5180\n",
       "Wkts                      156\n",
       "Ave                      33.2\n",
       "Econ                     4.93\n",
       "Name: 1, dtype: object"
      ]
     },
     "execution_count": 5,
     "metadata": {},
     "output_type": "execute_result"
    }
   ],
   "source": [
    "bowler_df.iloc[1]"
   ]
  },
  {
   "cell_type": "code",
   "execution_count": 6,
   "id": "e3f4bf79",
   "metadata": {},
   "outputs": [
    {
     "data": {
      "text/plain": [
       "Name     0\n",
       "Balls    0\n",
       "Runs     0\n",
       "Wkts     0\n",
       "Ave      0\n",
       "Econ     0\n",
       "dtype: int64"
      ]
     },
     "execution_count": 6,
     "metadata": {},
     "output_type": "execute_result"
    }
   ],
   "source": [
    "bowler_df.isnull().sum()"
   ]
  },
  {
   "cell_type": "code",
   "execution_count": 7,
   "id": "6d794f57",
   "metadata": {},
   "outputs": [
    {
     "data": {
      "text/plain": [
       "(18811, 79, 3197.583606557377)"
      ]
     },
     "execution_count": 7,
     "metadata": {},
     "output_type": "execute_result"
    }
   ],
   "source": [
    "bowler_df['Balls'].max(),bowler_df['Balls'].min(),bowler_df['Balls'].mean()"
   ]
  },
  {
   "cell_type": "code",
   "execution_count": 8,
   "id": "078dd073",
   "metadata": {},
   "outputs": [
    {
     "data": {
      "text/plain": [
       "(13632, 89, 2488.240983606557)"
      ]
     },
     "execution_count": 8,
     "metadata": {},
     "output_type": "execute_result"
    }
   ],
   "source": [
    "bowler_df['Runs'].max(),bowler_df['Runs'].min(),bowler_df['Runs'].mean()"
   ]
  },
  {
   "cell_type": "code",
   "execution_count": 9,
   "id": "7d737c39",
   "metadata": {},
   "outputs": [
    {
     "data": {
      "text/plain": [
       "(71.36, 0.0, 33.04342622950819)"
      ]
     },
     "execution_count": 9,
     "metadata": {},
     "output_type": "execute_result"
    }
   ],
   "source": [
    "bowler_df['Ave'].max(),bowler_df['Ave'].min(),bowler_df['Ave'].mean()"
   ]
  },
  {
   "cell_type": "code",
   "execution_count": 10,
   "id": "357c82c6",
   "metadata": {},
   "outputs": [
    {
     "data": {
      "text/plain": [
       "(534, 0, 79.67213114754098)"
      ]
     },
     "execution_count": 10,
     "metadata": {},
     "output_type": "execute_result"
    }
   ],
   "source": [
    "bowler_df['Wkts'].max(),bowler_df['Wkts'].min(),bowler_df['Wkts'].mean()"
   ]
  },
  {
   "cell_type": "code",
   "execution_count": 11,
   "id": "7e9a780d",
   "metadata": {},
   "outputs": [
    {
     "data": {
      "text/plain": [
       "(6.91, 3.09, 4.802754098360656)"
      ]
     },
     "execution_count": 11,
     "metadata": {},
     "output_type": "execute_result"
    }
   ],
   "source": [
    "bowler_df['Econ'].max(),bowler_df['Econ'].min(),bowler_df['Econ'].mean()"
   ]
  },
  {
   "cell_type": "code",
   "execution_count": 12,
   "id": "86fb16f5",
   "metadata": {},
   "outputs": [
    {
     "data": {
      "text/plain": [
       "0            inf\n",
       "1      40.403846\n",
       "2      30.792857\n",
       "3      30.900826\n",
       "4      30.343750\n",
       "         ...    \n",
       "605    54.650000\n",
       "606    26.000000\n",
       "607    43.900000\n",
       "608    37.000000\n",
       "609    47.300000\n",
       "Length: 610, dtype: float64"
      ]
     },
     "execution_count": 12,
     "metadata": {},
     "output_type": "execute_result"
    }
   ],
   "source": [
    "bowler_df['Balls']/bowler_df['Wkts']"
   ]
  },
  {
   "cell_type": "code",
   "execution_count": 13,
   "id": "a2a44a98",
   "metadata": {},
   "outputs": [
    {
     "data": {
      "text/plain": [
       "71.36"
      ]
     },
     "execution_count": 13,
     "metadata": {},
     "output_type": "execute_result"
    }
   ],
   "source": [
    "bowler_df['Ave'].max()"
   ]
  },
  {
   "cell_type": "code",
   "execution_count": 14,
   "id": "be55905b",
   "metadata": {},
   "outputs": [
    {
     "data": {
      "text/plain": [
       "33.04"
      ]
     },
     "execution_count": 14,
     "metadata": {},
     "output_type": "execute_result"
    }
   ],
   "source": [
    "ave=round(bowler_df['Ave'].mean(),2)\n",
    "ave"
   ]
  },
  {
   "cell_type": "code",
   "execution_count": 15,
   "id": "0a9ae9e8",
   "metadata": {},
   "outputs": [
    {
     "data": {
      "text/plain": [
       "80"
      ]
     },
     "execution_count": 15,
     "metadata": {},
     "output_type": "execute_result"
    }
   ],
   "source": [
    "wkts=round(bowler_df['Wkts'].mean())\n",
    "wkts"
   ]
  },
  {
   "cell_type": "code",
   "execution_count": 16,
   "id": "0d02b368",
   "metadata": {},
   "outputs": [
    {
     "data": {
      "text/plain": [
       "4.8"
      ]
     },
     "execution_count": 16,
     "metadata": {},
     "output_type": "execute_result"
    }
   ],
   "source": [
    "round(bowler_df['Econ'].mean(),2)"
   ]
  },
  {
   "cell_type": "code",
   "execution_count": 17,
   "id": "ddb74d53",
   "metadata": {},
   "outputs": [],
   "source": [
    "econ=round(bowler_df['Econ'].mean()+1)"
   ]
  },
  {
   "cell_type": "code",
   "execution_count": 18,
   "id": "c4589c10",
   "metadata": {},
   "outputs": [],
   "source": [
    "#excellent_criteria = (bowler_df['Ave'] <= 24) & (bowler_df['Wkts'] >= 40) & (bowler_df['Econ'] <= 4.5)\n",
    "#good_criteria = (bowler_df['Ave'] <= 30) & (bowler_df['Wkts'] >= 30) & (bowler_df['Econ'] <= 5.0)\n",
    "#average_criteria = (bowler_df['Ave'] <= 35) & (bowler_df['Wkts'] >= 20) & (bowler_df['Econ'] <= 6.0)\n",
    "#bad_criteria = (bowler_df['Ave'] <= 40) & (bowler_df['Wkts'] >= 15) & (bowler_df['Econ'] <= 6.0)\n",
    "\n",
    "# Classify bowlers based on criteria\n",
    "#bowler_df['Best_Bowler'] = 'Average'  # Default to \"Average\"\n",
    "#bowler_df.loc[excellent_criteria, 'Best_Bowler'] = 'Excellent' \n",
    "#bowler_df.loc[good_criteria, 'Best_Bowler'] = 'Good'\n",
    "#bowler_df.loc[bad_criteria, 'Best_Bowler'] = 'bad'\n",
    "\n",
    "# Display the resulting DataFrame with categories\n",
    "#bowler_df['Best_Bowler']\n",
    "def select_best_bowler(row):\n",
    "    ave = float(row['Ave'])\n",
    "    wkts = int(row['Wkts'])\n",
    "    econ = float(row['Econ'])\n",
    "    \n",
    "    if (ave <= 24) and (wkts >= 40) and (econ <= 4.5):\n",
    "        return 'Excellent'\n",
    "    elif (ave <= 30) and (wkts >= 30) and (econ <= 5.0):\n",
    "        return 'Good'\n",
    "    elif (ave <= 35) and (wkts >= 20) and (econ <= 6.0):\n",
    "        return 'Average'\n",
    "    else:\n",
    "            return 'Not So Good'\n",
    "\n",
    "# Create the target variable based on the criteria\n",
    "bowler_df['Best_Bowler'] = bowler_df.apply(select_best_bowler, axis=1)\n"
   ]
  },
  {
   "cell_type": "code",
   "execution_count": 19,
   "id": "b2012213",
   "metadata": {},
   "outputs": [
    {
     "data": {
      "text/plain": [
       "Best_Bowler\n",
       "Average        236\n",
       "Not So Good    232\n",
       "Good           119\n",
       "Excellent       23\n",
       "Name: count, dtype: int64"
      ]
     },
     "execution_count": 19,
     "metadata": {},
     "output_type": "execute_result"
    }
   ],
   "source": [
    "bowler_df['Best_Bowler'].value_counts()"
   ]
  },
  {
   "cell_type": "code",
   "execution_count": 20,
   "id": "e4989bec",
   "metadata": {},
   "outputs": [],
   "source": [
    "bowler_df= bowler_df.drop(labels=['Name'],axis=1)\n"
   ]
  },
  {
   "cell_type": "code",
   "execution_count": 21,
   "id": "6a26793b",
   "metadata": {},
   "outputs": [],
   "source": [
    "from sklearn.model_selection import train_test_split\n",
    "X = bowler_df[['Wkts','Ave','Econ']]\n",
    "y = bowler_df['Best_Bowler']\n",
    "X_train, X_test, y_train, y_test=train_test_split(X,y , test_size = 0.2 , random_state = 10)"
   ]
  },
  {
   "cell_type": "code",
   "execution_count": 22,
   "id": "5ba2da81",
   "metadata": {},
   "outputs": [
    {
     "data": {
      "text/html": [
       "<div>\n",
       "<style scoped>\n",
       "    .dataframe tbody tr th:only-of-type {\n",
       "        vertical-align: middle;\n",
       "    }\n",
       "\n",
       "    .dataframe tbody tr th {\n",
       "        vertical-align: top;\n",
       "    }\n",
       "\n",
       "    .dataframe thead th {\n",
       "        text-align: right;\n",
       "    }\n",
       "</style>\n",
       "<table border=\"1\" class=\"dataframe\">\n",
       "  <thead>\n",
       "    <tr style=\"text-align: right;\">\n",
       "      <th></th>\n",
       "      <th>Balls</th>\n",
       "      <th>Runs</th>\n",
       "      <th>Wkts</th>\n",
       "      <th>Ave</th>\n",
       "      <th>Econ</th>\n",
       "      <th>Best_Bowler</th>\n",
       "    </tr>\n",
       "  </thead>\n",
       "  <tbody>\n",
       "    <tr>\n",
       "      <th>0</th>\n",
       "      <td>79</td>\n",
       "      <td>89</td>\n",
       "      <td>0</td>\n",
       "      <td>0.00</td>\n",
       "      <td>6.75</td>\n",
       "      <td>Not So Good</td>\n",
       "    </tr>\n",
       "    <tr>\n",
       "      <th>1</th>\n",
       "      <td>6303</td>\n",
       "      <td>5180</td>\n",
       "      <td>156</td>\n",
       "      <td>33.20</td>\n",
       "      <td>4.93</td>\n",
       "      <td>Average</td>\n",
       "    </tr>\n",
       "    <tr>\n",
       "      <th>2</th>\n",
       "      <td>4311</td>\n",
       "      <td>3315</td>\n",
       "      <td>140</td>\n",
       "      <td>23.67</td>\n",
       "      <td>4.61</td>\n",
       "      <td>Good</td>\n",
       "    </tr>\n",
       "    <tr>\n",
       "      <th>3</th>\n",
       "      <td>3739</td>\n",
       "      <td>3283</td>\n",
       "      <td>121</td>\n",
       "      <td>27.13</td>\n",
       "      <td>5.26</td>\n",
       "      <td>Average</td>\n",
       "    </tr>\n",
       "    <tr>\n",
       "      <th>4</th>\n",
       "      <td>4855</td>\n",
       "      <td>4132</td>\n",
       "      <td>160</td>\n",
       "      <td>25.82</td>\n",
       "      <td>5.10</td>\n",
       "      <td>Average</td>\n",
       "    </tr>\n",
       "    <tr>\n",
       "      <th>...</th>\n",
       "      <td>...</td>\n",
       "      <td>...</td>\n",
       "      <td>...</td>\n",
       "      <td>...</td>\n",
       "      <td>...</td>\n",
       "      <td>...</td>\n",
       "    </tr>\n",
       "    <tr>\n",
       "      <th>605</th>\n",
       "      <td>1093</td>\n",
       "      <td>901</td>\n",
       "      <td>20</td>\n",
       "      <td>45.05</td>\n",
       "      <td>4.94</td>\n",
       "      <td>Not So Good</td>\n",
       "    </tr>\n",
       "    <tr>\n",
       "      <th>606</th>\n",
       "      <td>520</td>\n",
       "      <td>519</td>\n",
       "      <td>20</td>\n",
       "      <td>25.95</td>\n",
       "      <td>5.98</td>\n",
       "      <td>Average</td>\n",
       "    </tr>\n",
       "    <tr>\n",
       "      <th>607</th>\n",
       "      <td>878</td>\n",
       "      <td>569</td>\n",
       "      <td>20</td>\n",
       "      <td>28.45</td>\n",
       "      <td>3.88</td>\n",
       "      <td>Average</td>\n",
       "    </tr>\n",
       "    <tr>\n",
       "      <th>608</th>\n",
       "      <td>740</td>\n",
       "      <td>737</td>\n",
       "      <td>20</td>\n",
       "      <td>36.85</td>\n",
       "      <td>5.97</td>\n",
       "      <td>Not So Good</td>\n",
       "    </tr>\n",
       "    <tr>\n",
       "      <th>609</th>\n",
       "      <td>946</td>\n",
       "      <td>783</td>\n",
       "      <td>20</td>\n",
       "      <td>39.15</td>\n",
       "      <td>4.96</td>\n",
       "      <td>Not So Good</td>\n",
       "    </tr>\n",
       "  </tbody>\n",
       "</table>\n",
       "<p>610 rows × 6 columns</p>\n",
       "</div>"
      ],
      "text/plain": [
       "     Balls  Runs  Wkts    Ave  Econ  Best_Bowler\n",
       "0       79    89     0   0.00  6.75  Not So Good\n",
       "1     6303  5180   156  33.20  4.93      Average\n",
       "2     4311  3315   140  23.67  4.61         Good\n",
       "3     3739  3283   121  27.13  5.26      Average\n",
       "4     4855  4132   160  25.82  5.10      Average\n",
       "..     ...   ...   ...    ...   ...          ...\n",
       "605   1093   901    20  45.05  4.94  Not So Good\n",
       "606    520   519    20  25.95  5.98      Average\n",
       "607    878   569    20  28.45  3.88      Average\n",
       "608    740   737    20  36.85  5.97  Not So Good\n",
       "609    946   783    20  39.15  4.96  Not So Good\n",
       "\n",
       "[610 rows x 6 columns]"
      ]
     },
     "execution_count": 22,
     "metadata": {},
     "output_type": "execute_result"
    }
   ],
   "source": [
    "bowler_df"
   ]
  },
  {
   "cell_type": "code",
   "execution_count": 23,
   "id": "5c2f64a4",
   "metadata": {
    "scrolled": true
   },
   "outputs": [],
   "source": [
    "#Feature scalling\n",
    "from sklearn.preprocessing import MinMaxScaler,RobustScaler,StandardScaler\n",
    "mms = MinMaxScaler()\n",
    "X_train_scaled = mms.fit_transform(X_train)\n",
    "X_test_scaled = mms.transform(X_test)"
   ]
  },
  {
   "cell_type": "code",
   "execution_count": null,
   "id": "8dbae9e2",
   "metadata": {},
   "outputs": [],
   "source": []
  },
  {
   "cell_type": "code",
   "execution_count": 24,
   "id": "a9cdad09",
   "metadata": {},
   "outputs": [
    {
     "name": "stdout",
     "output_type": "stream",
     "text": [
      "Logistic Regression 0.7213114754098361\n",
      "Random Forest 0.9754098360655737\n",
      "[103.0, 20.8, 3.6] are selected\n"
     ]
    },
    {
     "data": {
      "image/png": "[encoded data removed]",
      "text/plain": [
       "<Figure size 640x480 with 1 Axes>"
      ]
     },
     "metadata": {},
     "output_type": "display_data"
    },
    {
     "name": "stdout",
     "output_type": "stream",
     "text": [
      "[381.0, 22.0, 3.9] are selected\n"
     ]
    },
    {
     "data": {
      "image/png": "[encoded data removed]",
      "text/plain": [
       "<Figure size 640x480 with 1 Axes>"
      ]
     },
     "metadata": {},
     "output_type": "display_data"
    },
    {
     "name": "stdout",
     "output_type": "stream",
     "text": [
      "[147.0, 20.9, 4.3] are selected\n"
     ]
    },
    {
     "data": {
      "image/png": "[encoded data removed]",
      "text/plain": [
       "<Figure size 640x480 with 1 Axes>"
      ]
     },
     "metadata": {},
     "output_type": "display_data"
    },
    {
     "name": "stdout",
     "output_type": "stream",
     "text": [
      "SVM 0.7459016393442623\n",
      "Gradient Boosting 0.9754098360655737\n",
      "[103.0, 20.8, 3.6] are selected\n"
     ]
    },
    {
     "data": {
      "image/png": "[encoded data removed]",
      "text/plain": [
       "<Figure size 640x480 with 1 Axes>"
      ]
     },
     "metadata": {},
     "output_type": "display_data"
    },
    {
     "name": "stdout",
     "output_type": "stream",
     "text": [
      "[381.0, 22.0, 3.9] are selected\n"
     ]
    },
    {
     "data": {
      "image/png": "[encoded data removed]",
      "text/plain": [
       "<Figure size 640x480 with 1 Axes>"
      ]
     },
     "metadata": {},
     "output_type": "display_data"
    },
    {
     "name": "stdout",
     "output_type": "stream",
     "text": [
      "[63.0, 23.2, 3.6] are selected\n"
     ]
    },
    {
     "data": {
      "image/png": "[encoded data removed]",
      "text/plain": [
       "<Figure size 640x480 with 1 Axes>"
      ]
     },
     "metadata": {},
     "output_type": "display_data"
    },
    {
     "name": "stdout",
     "output_type": "stream",
     "text": [
      "[147.0, 20.9, 4.3] are selected\n"
     ]
    },
    {
     "data": {
      "image/png": "[encoded data removed]",
      "text/plain": [
       "<Figure size 640x480 with 1 Axes>"
      ]
     },
     "metadata": {},
     "output_type": "display_data"
    }
   ],
   "source": [
    "from sklearn.linear_model import LogisticRegression\n",
    "from sklearn.ensemble import RandomForestClassifier, GradientBoostingClassifier\n",
    "from sklearn.svm import SVC\n",
    "from sklearn.metrics import accuracy_score,classification_report\n",
    "import matplotlib.pyplot as plt\n",
    "labels=['Wkts','Ave','Econ']\n",
    "# Create models\n",
    "models = {\n",
    "    'Logistic Regression': LogisticRegression(),\n",
    "    'Random Forest': RandomForestClassifier(),\n",
    "    'SVM': SVC(kernel='linear'),\n",
    "    'Gradient Boosting': GradientBoostingClassifier()\n",
    "}\n",
    "\n",
    "# Train and evaluate each model\n",
    "for model_name, model in models.items():\n",
    "    model.fit(X_train_scaled, y_train)\n",
    "    y_pred = model.predict(X_test_scaled)\n",
    "    accuracy = accuracy_score(y_test, y_pred)\n",
    "    print(model_name,accuracy)\n",
    "    #report=classification_report(y_test, y_pred)\n",
    "    #print(report)\n",
    "    for i in range(len(y_pred)):\n",
    "        #for pred_name,  in y_pred.items():\n",
    "        if y_pred[i]=='Excellent':\n",
    "            #X_test_original_list=[]\n",
    "            X_test_original = mms.inverse_transform(X_test_scaled[[i]]).flatten().astype(float)\n",
    "            X_test_original = [round(val, 1) for val in X_test_original]\n",
    "            #X_test_original_list=X_test_original_list.append(X_test_original)\n",
    "            print(X_test_original,'are selected')\n",
    "            plt.bar(labels,X_test_original)\n",
    "            plt.xlabel('labels')\n",
    "            plt.ylabel('X_test_original')\n",
    "            plt.title('Data of Selected Player')\n",
    "            plt.show()\n",
    "        else:\n",
    "            pass\n",
    "            #print('you are not selected')\n",
    "    "
   ]
  },
  {
   "cell_type": "code",
   "execution_count": 25,
   "id": "497869d7",
   "metadata": {},
   "outputs": [
    {
     "data": {
      "text/plain": [
       "['./../models/bow_model.joblib']"
      ]
     },
     "execution_count": 25,
     "metadata": {},
     "output_type": "execute_result"
    }
   ],
   "source": [
    "dump(model,'./../models/bow_model.joblib')"
   ]
  },
  {
   "cell_type": "code",
   "execution_count": 26,
   "id": "e2b8c48b",
   "metadata": {},
   "outputs": [],
   "source": [
    "import matplotlib.pyplot as plt\n",
    "labels=['Logistic Regression','Random Forest','SVM']"
   ]
  },
  {
   "cell_type": "code",
   "execution_count": null,
   "id": "e0927402",
   "metadata": {},
   "outputs": [],
   "source": []
  },
  {
   "cell_type": "code",
   "execution_count": 27,
   "id": "7785f63c",
   "metadata": {},
   "outputs": [
    {
     "data": {
      "text/plain": [
       "<BarContainer object of 3 artists>"
      ]
     },
     "execution_count": 27,
     "metadata": {},
     "output_type": "execute_result"
    },
    {
     "data": {
      "image/png": "[encoded data removed]",
      "text/plain": [
       "<Figure size 640x480 with 1 Axes>"
      ]
     },
     "metadata": {},
     "output_type": "display_data"
    }
   ],
   "source": [
    "plt.bar(labels,[0.72,0.98,0.74])"
   ]
  },
  {
   "cell_type": "code",
   "execution_count": 28,
   "id": "8fdf3010",
   "metadata": {},
   "outputs": [
    {
     "data": {
      "text/plain": [
       "3"
      ]
     },
     "execution_count": 28,
     "metadata": {},
     "output_type": "execute_result"
    }
   ],
   "source": [
    "len(X_test_original)"
   ]
  },
  {
   "cell_type": "code",
   "execution_count": null,
   "id": "f7293e46",
   "metadata": {},
   "outputs": [],
   "source": []
  }
 ],
 "metadata": {
  "kernelspec": {
   "display_name": "Python 3 (ipykernel)",
   "language": "python",
   "name": "python3"
  },
  "language_info": {
   "codemirror_mode": {
    "name": "ipython",
    "version": 3
   },
   "file_extension": ".py",
   "mimetype": "text/x-python",
   "name": "python",
   "nbconvert_exporter": "python",
   "pygments_lexer": "ipython3",
   "version": "3.10.11"
  },
  "vscode": {
   "interpreter": {
    "hash": "02bec81eb7abda00c1892cd9a67ebd1f5d8bbb52e885618613884d7cb3715ad3"
   }
  }
 },
 "nbformat": 4,
 "nbformat_minor": 5
}
